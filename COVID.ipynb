{
 "cells": [
  {
   "cell_type": "code",
   "execution_count": 2,
   "metadata": {},
   "outputs": [],
   "source": [
    "import matplotlib.pyplot as pt\n",
    "import numpy as np\n",
    "import pandas as pd"
   ]
  },
  {
   "cell_type": "code",
   "execution_count": 3,
   "metadata": {},
   "outputs": [],
   "source": [
    "lockdown_dates = pd.read_csv(\"./lockdown_dates.csv\", encoding='utf-8')\n",
    " \n",
    "deaths = pd.read_csv(\"./time_series_covid19_deaths_global.csv\", encoding='cp1252')\n",
    " \n",
    "confirmed = pd.read_csv(\"./time_series_covid19_confirmed_global.csv\", encoding='cp1252')"
   ]
  },
  {
   "cell_type": "code",
   "execution_count": 4,
   "metadata": {},
   "outputs": [],
   "source": [
    "lockdown_dates_start = lockdown_dates.groupby(['Country'])[['Start date']].agg('min')\n",
    "lockdown_dates_end = lockdown_dates.groupby(['Country'])[['End date']].agg('max')\n",
    "\n",
    "deaths_summed = deaths.groupby(['Country/Region']).sum()\n",
    "deaths_summed.drop(columns=['Lat', 'Long'], inplace=True)\n",
    " \n",
    "confirmed_summed = confirmed.groupby(['Country/Region']).sum()\n",
    "confirmed_summed.drop(columns=['Lat', 'Long'], inplace=True)"
   ]
  },
  {
   "cell_type": "code",
   "execution_count": 6,
   "metadata": {},
   "outputs": [],
   "source": [
    "lockdown_dates = pd.concat([lockdown_dates_start, lockdown_dates_end], axis=1, sort=False)"
   ]
  },
  {
   "cell_type": "code",
   "execution_count": 10,
   "metadata": {},
   "outputs": [],
   "source": [
    "lockdown_dates.to_csv(\"./lockdown_dates.csv\")\n",
    "confirmed_summed.to_csv(\"./confirmed_summed.csv\")\n",
    "deaths_summed.to_csv(\"./deaths_summed.csv\")"
   ]
  },
  {
   "cell_type": "code",
   "execution_count": null,
   "metadata": {},
   "outputs": [],
   "source": []
  }
 ],
 "metadata": {
  "language_info": {
   "codemirror_mode": {
    "name": "ipython",
    "version": 3
   },
   "file_extension": ".py",
   "mimetype": "text/x-python",
   "name": "python",
   "nbconvert_exporter": "python",
   "pygments_lexer": "ipython3",
   "version": "3.8.2-final"
  },
  "orig_nbformat": 2,
  "kernelspec": {
   "name": "python38232bit3ec09c2411d24658bac19ce69f47c9f5",
   "display_name": "Python 3.8.2 32-bit"
  }
 },
 "nbformat": 4,
 "nbformat_minor": 2
}