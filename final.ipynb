{
 "cells": [
  {
   "cell_type": "code",
   "execution_count": 2,
   "metadata": {},
   "outputs": [],
   "source": [
    "import pandas as pd\n",
    "from bokeh.plotting import figure, output_file, show\n",
    "from bokeh.models import ColumnDataSource\n",
    "from bokeh.palettes import Set2_3\n",
    "import math"
   ]
  },
  {
   "cell_type": "code",
   "execution_count": 3,
   "metadata": {},
   "outputs": [],
   "source": [
    "output_file('./final.html')"
   ]
  },
  {
   "cell_type": "code",
   "execution_count": 4,
   "metadata": {},
   "outputs": [],
   "source": [
    "df = pd.read_csv('./05-02-2020.csv')\n",
    "grouped = df.groupby('Country_Region')['Active', 'Deaths', 'Recovered'].sum() / 1000\n"
   ]
  },
  {
   "cell_type": "code",
   "execution_count": 7,
   "metadata": {},
   "outputs": [],
   "source": [
    "source = ColumnDataSource(grouped)\n",
    "countries = source.data['Country_Region'].tolist()\n",
    "p = figure(x_range=countries, width_policy=\"max\", height_policy=\"max\")"
   ]
  },
  {
   "cell_type": "code",
   "execution_count": 8,
   "metadata": {},
   "outputs": [
    {
     "output_type": "stream",
     "name": "stderr",
     "text": "BokehDeprecationWarning: 'legend' keyword is deprecated, use explicit 'legend_label', 'legend_field', or 'legend_group' keywords instead\nBokehDeprecationWarning: 'legend' keyword is deprecated, use explicit 'legend_label', 'legend_field', or 'legend_group' keywords instead\nBokehDeprecationWarning: 'legend' keyword is deprecated, use explicit 'legend_label', 'legend_field', or 'legend_group' keywords instead\n"
    },
    {
     "output_type": "execute_result",
     "data": {
      "text/plain": "[GlyphRenderer(id='1122', ...),\n GlyphRenderer(id='1136', ...),\n GlyphRenderer(id='1151', ...)]"
     },
     "metadata": {},
     "execution_count": 8
    }
   ],
   "source": [
    "p.vbar_stack(stackers=['Active', 'Deaths', 'Recovered'],\n",
    "             x='Country_Region', source=source,\n",
    "             legend = ['Active Cases', 'Total Deaths', 'Recovered Cases'],\n",
    "             width=0.5, color=Set2_3)"
   ]
  },
  {
   "cell_type": "code",
   "execution_count": 9,
   "metadata": {},
   "outputs": [],
   "source": [
    "p.title.text ='Covid data'\n",
    "p.legend.location = 'top_left'\n",
    "\n",
    "p.xaxis.axis_label = 'Country'\n",
    "p.yaxis.axis_label = 'Cases in thousands'\n",
    "\n",
    "\n",
    "p.xaxis.major_label_orientation = math.pi/2\n",
    "p.xaxis.major_label_text_font_size = \"6px\"\n",
    "p.xgrid.grid_line_color = None\n",
    "\n",
    "show(p)"
   ]
  },
  {
   "cell_type": "code",
   "execution_count": null,
   "metadata": {},
   "outputs": [],
   "source": []
  }
 ],
 "metadata": {
  "language_info": {
   "codemirror_mode": {
    "name": "ipython",
    "version": 3
   },
   "file_extension": ".py",
   "mimetype": "text/x-python",
   "name": "python",
   "nbconvert_exporter": "python",
   "pygments_lexer": "ipython3",
   "version": "3.8.2-final"
  },
  "orig_nbformat": 2,
  "kernelspec": {
   "name": "python38232bit3ec09c2411d24658bac19ce69f47c9f5",
   "display_name": "Python 3.8.2 32-bit"
  }
 },
 "nbformat": 4,
 "nbformat_minor": 2
}